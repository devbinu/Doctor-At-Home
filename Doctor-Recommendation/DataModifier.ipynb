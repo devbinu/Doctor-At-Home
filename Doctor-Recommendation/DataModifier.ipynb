import pandas as pd
import numpy as np

df_doc = pd.read_csv('/content/drive/My Drive/')
df_doc['fees'] = np.random.randint(10, 50, df_doc.shape[0])
df_doc['rating'] = np.random.randint(0,5, df_doc.shape[0])
df_doc['average_cust_per_day'] = np.random.randint(10,100, df_doc.shape[0])
df_doc[' years of practice'] = np.random.randint(0,60,df_doc.shape[0])

w1 = 1
w2 = 4
w3 = 3
w4 = 2

df_doc['score'] = w1*((df_doc['fees']-10)/40) + w2*((df_doc['rating'])/5) + w3*((df_doc['average_cust_per_day']-10)/90) + w4*(df_doc['years_of_practice']/60)

df_doc.to_csv(r'DoctorsInfo_Updated.csv')
