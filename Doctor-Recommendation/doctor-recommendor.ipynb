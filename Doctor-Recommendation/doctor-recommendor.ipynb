def match(patientInfo,speciality,doctor):
  specilaities=[]
  for disease in patientInfo:
    if speciality[disease] not in specialities:
      specialities.append(speciality[disease])

  return_df = []
  for ind,doc in doc.iterrows():
    matching_spec=0
    if doc['Primary speciality'] in specilities:
      matching_spec+=1
    if doc['Secondary speciality 1'] in specilities:
      matching_spec+=1
    if doc['Secondary speciality 2'] in specilities:
      matching_spec+=1
    if doc['Secondary speciality 3'] in specilities:
      matching_spec+=1
    if doc['Secondary speciality 4'] in specilities:
      matching_spec+=1

    if(matching_spec>0):
      dic = {'Name' : ,}

    return_df.append(dic)

  sorted_df = sorted(return_df, key = lambda i: i[''])
  return sorted_df
